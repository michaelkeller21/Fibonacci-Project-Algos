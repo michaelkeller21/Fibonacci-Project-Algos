{
 "cells": [
  {
   "cell_type": "markdown",
   "metadata": {},
   "source": [
    "# The Fibonacci Sequence"
   ]
  },
  {
   "cell_type": "markdown",
   "metadata": {},
   "source": [
    "## The Problem "
   ]
  },
  {
   "cell_type": "markdown",
   "metadata": {},
   "source": [
    "The Fibonacci sequence, denoted $F_{n}$, is the sequence in which the $n^{th}$ number is the sum of the two numbers before it. More formally, we have: \n",
    "\n",
    "$F_{0}=0, F_{1}=1$, and $F_{n}=F_{n-1}+𝐹_{n-2}$\n",
    "\n",
    "for all $n >1$.\n",
    "\n",
    "This project will examine some of the different algorithms used to find the $n^{th}$ number of this sequence. The input to the algorithms will be a positive integer $n$, and the output will be the $n^{th}$ Fibonacci number.\n",
    "\n",
    "The ratio between two consecutive terms of the Fibonacci sequence converges to approximately $1.618$, known as the Golden Ratio."
   ]
  },
  {
   "cell_type": "markdown",
   "metadata": {},
   "source": [
    "## Real-World Applications "
   ]
  },
  {
   "cell_type": "markdown",
   "metadata": {},
   "source": [
    "The Fibonacci sequence can be found in several natural phenomena, including:\n",
    "\n",
    "1. The rabbit breeding Experiment\n",
    "    1. One male, one female rabbit in a field\n",
    "    1. Rabbits are assumed to have infinite lifespan\n",
    "    1. One male, one female produced every month\n",
    "    1. Number of rabbits produced in a year perfectly follows Fibonacci sequence=144\n",
    "1. Flower petals\n",
    "    1. 1 petal: white cally lily\n",
    "    1. 3 petals: lily, iris\n",
    "    1. 5 petals: buttercup, wild rose, larkspur, columbine (aquilegia)\n",
    "    1. 8 petals: delphiniums\n",
    "    1. 13 petals: ragwort, corn marigold, cineraria,\n",
    "    1. 21 petals: aster, black-eyed susan, chicory\n",
    "    1. 34 petals: plantain, pyrethrum\n",
    "    1. 55, 89 petals: michaelmas daisies, the asteraceae family\n",
    "1. Flower seed spirals\n",
    "1. Fibonacci spiral\n",
    "    1. Snails\n",
    "    1. Sea shells\n",
    "    1. roses\n",
    "1. Human hands\n",
    "    1. Two\n",
    "    1. Five Fingers\n",
    "    1. Three parts\n",
    "    1. Two knuckles\n",
    "1. Music\n",
    "    1. Octaves\n",
    "    1. Golden ratio used for musical instruments\n",
    "\n",
    "It is evident from this list that the Fibonacci sequence was likely created to mathematically explain certain natural occurrences."
   ]
  },
  {
   "cell_type": "markdown",
   "metadata": {},
   "source": [
    "## The Algorithms"
   ]
  },
  {
   "cell_type": "markdown",
   "metadata": {},
   "source": [
    "We will examine three algorithms:\n",
    "\n",
    "1. Brute force (recursive approach)\n",
    "2. Dynamic programming (memoization)\n",
    "3. Fast doubling"
   ]
  },
  {
   "cell_type": "markdown",
   "metadata": {},
   "source": [
    "### Brute Force (Recursion)"
   ]
  },
  {
   "cell_type": "markdown",
   "metadata": {},
   "source": [
    "This approach is the simplest to implement, with recursive calls to the Fibonacci function using the recurrence from the problem description. A recursive function is shown below:"
   ]
  },
  {
   "cell_type": "code",
   "execution_count": 1,
   "metadata": {},
   "outputs": [],
   "source": [
    "#imports\n",
    "\n",
    "import numpy as np\n",
    "import time \n",
    "import matplotlib.pyplot as plt"
   ]
  },
  {
   "cell_type": "code",
   "execution_count": 2,
   "metadata": {},
   "outputs": [],
   "source": [
    "def fibonacci_recursion(n):\n",
    "    if n<=1:\n",
    "        return n\n",
    "    else:\n",
    "        return fibonacci_recursion(n-1)+fibonacci_recursion(n-2)"
   ]
  },
  {
   "cell_type": "markdown",
   "metadata": {},
   "source": [
    "The disadvantage to this approach is that as n gets larger, the algorithm will do many repetitive recursive calls. This leads to an exponential worst-case running time of $O(\\varphi^{n})$, where:\n",
    "\n",
    "$$\\varphi=\\frac{\\sqrt{5}+1}{2}$$\n",
    "\n",
    "Hence, this is an extremely slow approach."
   ]
  },
  {
   "cell_type": "markdown",
   "metadata": {},
   "source": [
    "### Dynamic Programming (Memoization)"
   ]
  },
  {
   "cell_type": "markdown",
   "metadata": {},
   "source": [
    "This uses a technique called memoization, where we save the previous two results in a data structure to avoid repeated work. A memoization function is shown below:"
   ]
  },
  {
   "cell_type": "code",
   "execution_count": 3,
   "metadata": {},
   "outputs": [],
   "source": [
    "def fibonacci_memoization(n):\n",
    "    fib_cache=[]\n",
    "\n",
    "    if n<=1:\n",
    "        return n\n",
    "\n",
    "    else: \n",
    "        fib_cache.append(1)\n",
    "        fib_cache.append(1)\n",
    "        for i in range (2, n):\n",
    "            fib_cache.append(fib_cache[i-1]+fib_cache[i-2])\n",
    "        return fib_cache[n-1]"
   ]
  },
  {
   "cell_type": "markdown",
   "metadata": {},
   "source": [
    "This algorithm only requires a linear traversal of an array and no recursive calls, and thus has a worst-case running time of $O(n)$."
   ]
  },
  {
   "cell_type": "markdown",
   "metadata": {},
   "source": [
    "### Fast Doubling"
   ]
  },
  {
   "cell_type": "markdown",
   "metadata": {},
   "source": [
    "Fast doubling is one of the best Fibonacci algorithms. It involves calculating the following identities given $F(k)$ and $F(k+1)$:\n",
    "\n",
    "$$F(2k)=F(k)(2F(k+1)-F(k))$$\n",
    "\n",
    "$$F(2k+1)=F(k+1)^{2}+F(k)^{2}$$"
   ]
  },
  {
   "cell_type": "markdown",
   "metadata": {},
   "source": [
    "These identities are derived from a matrix exponentiation implementation of this problem. A fast doubling function is given below:"
   ]
  },
  {
   "cell_type": "code",
   "execution_count": 4,
   "metadata": {},
   "outputs": [],
   "source": [
    "def fibonacci_fast_doubling(n):\n",
    "    if n==0:\n",
    "        return (0, 1)\n",
    "    else:\n",
    "        [a, b]=fibonacci_fast_doubling(n//2)\n",
    "        c=a*(b*2-a)\n",
    "        d=a*a+b*b\n",
    "        if n%2==0:\n",
    "            return (c, d)\n",
    "        else:\n",
    "            return (d, c+d)"
   ]
  },
  {
   "cell_type": "markdown",
   "metadata": {},
   "source": [
    "This algorithm has a worst case running time of $O(log n)$."
   ]
  },
  {
   "cell_type": "markdown",
   "metadata": {},
   "source": [
    "## Methods"
   ]
  },
  {
   "cell_type": "markdown",
   "metadata": {},
   "source": [
    "We will perform two separate comparisons to validate the claims above. The first comparison will examine the running time of recursion against the running time of memoization. For this, the algorithms will be asked asked to compute the $n^{th}$ Fibonacci number, where n iterates from 1 to 40. This computation will be performed 5 separate times for each input, with the average of the 5 runtimes being used as the empirical result. A small upper bound for n such as 40 was necessary to reduce the total runtime of the recursive implementation. For the implementation of memoization, we will use a dictionary. This is a data structure akin to an array.\n",
    "\n",
    "The second comparison will examineexamine the running time of memoization against the running time of fast doubling. For this, the algorithms will be asked to compute the $n^{th}$ Fibonacci number, where n is increased in increments of 5000 from 5000 to 250,000. This computation is performed 5 separate times for each input, with the average of the 5 runtimes being used as the empirical result. For the implementation of memoization, we will use a dictionary. This is a data structure akin to an array."
   ]
  },
  {
   "cell_type": "markdown",
   "metadata": {},
   "source": [
    "## Results"
   ]
  },
  {
   "cell_type": "markdown",
   "metadata": {},
   "source": [
    "A plot of the first experiment described above is shown below:"
   ]
  },
  {
   "cell_type": "code",
   "execution_count": 5,
   "metadata": {},
   "outputs": [],
   "source": [
    "recur_averages=[]\n",
    "memo_averages=[]\n",
    "\n",
    "for i in range (1, 41):\n",
    "    recur_sum=0\n",
    "    memo_sum=0\n",
    "    for j in range(1, 6):\n",
    "        recur_start=time.perf_counter()\n",
    "        fibonacci_recursion(i)\n",
    "        recur_end=time.perf_counter()\n",
    "        recur_run=(recur_end-recur_start)            \n",
    "        recur_sum+=recur_run \n",
    "        memo_start=time.perf_counter()\n",
    "        fibonacci_memoization(i)\n",
    "        memo_end=time.perf_counter()\n",
    "        memo_run=(memo_end-memo_start)            \n",
    "        memo_sum+=memo_run\n",
    "    recur_average=recur_sum/5\n",
    "    memo_average=memo_sum/5\n",
    "    recur_averages.append(recur_average)\n",
    "    memo_averages.append(memo_average)"
   ]
  },
  {
   "cell_type": "code",
   "execution_count": 6,
   "metadata": {},
   "outputs": [
    {
     "data": {
      "image/png": "[encoded data removed]",
      "text/plain": [
       "<Figure size 432x288 with 1 Axes>"
      ]
     },
     "metadata": {
      "needs_background": "light"
     },
     "output_type": "display_data"
    }
   ],
   "source": [
    "plt.plot(recur_averages, label='Recursion')\n",
    "plt.plot(memo_averages, label='Memoization')\n",
    "plt.xlabel('Input Size(n)')\n",
    "plt.ylabel('Time(s)')\n",
    "plt.legend()\n",
    "plt.show()"
   ]
  },
  {
   "cell_type": "markdown",
   "metadata": {},
   "source": [
    "From this graph, it is evident that there is a significant difference between the running times of recursion and the running times of memoization. This difference is so significant that the line representing empirical runtime values for memoization appears flat. This is to be expected, and is consistent with theoretical results. We now consider the second comparison."
   ]
  },
  {
   "cell_type": "code",
   "execution_count": 7,
   "metadata": {},
   "outputs": [],
   "source": [
    "memo_averages=[]\n",
    "doubling_averages=[]\n",
    "\n",
    "for i in range (1, 51):\n",
    "    n=5000*i\n",
    "    memo_sum=0\n",
    "    doubling_sum=0\n",
    "    for j in range(1, 6):\n",
    "        memo_start=time.perf_counter()\n",
    "        fibonacci_memoization(n)\n",
    "        memo_end=time.perf_counter()\n",
    "        memo_run=(memo_end-memo_start)            \n",
    "        memo_sum+=memo_run\n",
    "        doubling_start=time.perf_counter()\n",
    "        fibonacci_fast_doubling(n)\n",
    "        doubling_end=time.perf_counter()\n",
    "        doubling_run=(doubling_end-doubling_start)            \n",
    "        doubling_sum+=doubling_run\n",
    "    memo_average=memo_sum/5\n",
    "    doubling_average=doubling_sum/5\n",
    "    memo_averages.append(memo_average)\n",
    "    doubling_averages.append(doubling_average)"
   ]
  },
  {
   "cell_type": "code",
   "execution_count": 11,
   "metadata": {},
   "outputs": [
    {
     "data": {
      "image/png": "[encoded data removed]",
      "text/plain": [
       "<Figure size 432x288 with 1 Axes>"
      ]
     },
     "metadata": {
      "needs_background": "light"
     },
     "output_type": "display_data"
    }
   ],
   "source": [
    "input_sizes=[5000*i for i in range(1, 51)]\n",
    "\n",
    "plt.plot(input_sizes, memo_averages, label='Memoization')\n",
    "plt.plot(input_sizes, doubling_averages, label='Fast Doubling')\n",
    "plt.xlabel('Input Size(n)')\n",
    "plt.ylabel('Time(s)')\n",
    "plt.legend()\n",
    "plt.show()"
   ]
  },
  {
   "cell_type": "markdown",
   "metadata": {},
   "source": [
    "From this graph, it is clear that Python is doing some background operations to increase the running time as the input size gets larger past 150,000. This is why it eventually diverges from the theoretical running time. However, the running time for this algorithm is significantly slower than that of fast doubling, slow enough that the graph for fast doubling appears flat. This indicates that it is the best algorithm out of the three examined to solve this problem, and is consistent with theoretical results."
   ]
  },
  {
   "cell_type": "markdown",
   "metadata": {},
   "source": [
    "## Conclusions"
   ]
  },
  {
   "cell_type": "markdown",
   "metadata": {},
   "source": [
    "The results of these experiments demonstrate that fast doubling is the best overall option out of the three for solving the Fibonacci problem. It is significantly faster than memoization, which in turn is significantly faster than recursion. However, a comparison of the empirical and theoretical results reveals that a certain amount of additional running time should be expected depending on the language used as well as the compiler. This is because of the \"hidden constant C\" in algorithmic complexity theory, representing the background operations done by the interpreter that increase the running time past that of the theoretical running time."
   ]
  },
  {
   "cell_type": "markdown",
   "metadata": {},
   "source": [
    "## References "
   ]
  },
  {
   "cell_type": "markdown",
   "metadata": {},
   "source": [
    "1. Applications: http://www.ijesi.org/papers/Vol(6)9/Version-3/B0609030714.pdf\n",
    "2. Algorithms w/Running times: https://www.nayuki.io/page/fast-fibonacci-algorithms"
   ]
  }
 ],
 "metadata": {
  "kernelspec": {
   "display_name": "Python 3",
   "language": "python",
   "name": "python3"
  },
  "language_info": {
   "codemirror_mode": {
    "name": "ipython",
    "version": 3
   },
   "file_extension": ".py",
   "mimetype": "text/x-python",
   "name": "python",
   "nbconvert_exporter": "python",
   "pygments_lexer": "ipython3",
   "version": "3.7.7"
  }
 },
 "nbformat": 4,
 "nbformat_minor": 4
}
